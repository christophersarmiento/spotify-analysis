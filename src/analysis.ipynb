{
 "cells": [
  {
   "cell_type": "code",
   "execution_count": 24,
   "metadata": {},
   "outputs": [],
   "source": [
    "import numpy as np\n",
    "import pandas as pd\n",
    "top_2010_2019 = pd.read_csv('2010-2019.csv', encoding='mbcs', index_col=0)"
   ]
  },
  {
   "cell_type": "code",
   "execution_count": 25,
   "metadata": {},
   "outputs": [
    {
     "name": "stdout",
     "output_type": "stream",
     "text": [
      "DF\n",
      "title\n",
      "Data Type: Categorical\n",
      "There are 584 unique values: {Hey, Soul Sister, Kills You Slowly, Love The Way You Lie, …, No Brainer (feat. Justin Bieber, Chance the Rapper & Quavo), Nothing Breaks Like a Heart (feat. Miley Cyrus), TiK ToK}\n",
      "\n",
      "artist\n",
      "Data Type: Categorical\n",
      "There are 184 unique values: {Daddy Yankee, Eminem, Kesha, …, Khalid, R3HAB, Train}\n",
      "\n",
      "top genre\n",
      "Data Type: Categorical\n",
      "There are 50 unique values: {alternative r&b, dance pop, detroit hip hop, …, escape room, moroccan pop, neo mellow}\n",
      "\n"
     ]
    }
   ],
   "source": [
    "for df in [top_2010_2019]:\n",
    "    print(\"DF\")\n",
    "    for col in [\"title\", \"artist\", \"top genre\"]:\n",
    "        print(col)\n",
    "        print(\"Data Type: Categorical\")\n",
    "        unique = len(df[col].unique())\n",
    "        s = sorted(df[col].unique())\n",
    "        if unique > 7:\n",
    "            s = sorted(list(df[col].unique()[:3]) + list(df[col].unique()[-3:]))\n",
    "            s.insert(3, \"…\")\n",
    "        \n",
    "        print(f\"There are {unique} unique values: \",end=\"{\")\n",
    "        for val in s:\n",
    "            print(val,end=\"\")\n",
    "            if not val is s[-1]:\n",
    "                print(\", \",end=\"\")\n",
    "        print(\"}\\n\")"
   ]
  },
  {
   "cell_type": "code",
   "execution_count": 26,
   "metadata": {},
   "outputs": [
    {
     "name": "stdout",
     "output_type": "stream",
     "text": [
      "DF\n",
      "year\n",
      "Data Type: Quantitative\n",
      "Float: contains [2010, 2019] inclusive, there are 0 outliers\n",
      "\n",
      "bpm\n",
      "Data Type: Quantitative\n",
      "Float: contains [0, 206] inclusive, there are 28 outliers: {186, 182, 43, 175, 184, 180174, 185, 184, 201, 186, 192, 174, 206, 190, 190, 176, 192, 202, 175, 186, 0, 186, 178, 192, 190, 181, 180}\n",
      "\n",
      "nrgy\n",
      "Data Type: Quantitative\n",
      "Float: contains [0, 98] inclusive, there are 11 outliers: {23, 26, 15, 14, 27, 26, 284, 17, 0, 28}\n",
      "\n",
      "dnce\n",
      "Data Type: Quantitative\n",
      "Float: contains [0, 97] inclusive, there are 17 outliers: {29, 31, 23, 30, 30, 28, 29, 2628, 32, 2628, 32, 0, 31, 27, 26}\n",
      "\n",
      "dB\n",
      "Data Type: Quantitative\n",
      "Float: contains [-60, -2] inclusive, there are 15 outliers: {-11, -12, -10, -10, -11, -11, -10, -15, -13, -10, -60, -11, -10, -10, -10}\n",
      "\n",
      "live\n",
      "Data Type: Quantitative\n",
      "Float: contains [0, 74] inclusive, there are 23 outliers: {52, 70, 60, 65, 56, 60, 67, 67, 66, 55, 64, 59, 64, 48, 62, 69, 48, 47, 7448, 49, 64, 74}\n",
      "\n",
      "val\n",
      "Data Type: Quantitative\n",
      "Float: contains [0, 98] inclusive, there are 0 outliers\n",
      "\n",
      "dur\n",
      "Data Type: Quantitative\n",
      "Float: contains [134, 424] inclusive, there are 19 outliers: {308, 329, 379, 321, 307, 329, 354, 326, 424, 353, 319, 323, 134, 320, 309, 403, 310, 341, 304}\n",
      "\n",
      "acous\n",
      "Data Type: Quantitative\n",
      "Float: contains [0, 99] inclusive, there are 66 outliers: {74, 83, 47, 85, 89, 73, 91, 56, 50, 41, 92, 63, 43, 92, 59, 45, 46, 87, 97, 84, 45, 47, 53, 84, 63, 88, 59, 86, 56, 79, 88, 43, 75, 45, 84, 49, 40, 88, 60, 72, 68, 40, 99, 91, 58, 41, 43, 41, 49, 50, 49, 88, 49, 58, 85, 42, 78, 56, 81, 70, 84, 58, 75, 56, 48, 57}\n",
      "\n",
      "spch\n",
      "Data Type: Quantitative\n",
      "Float: contains [0, 48] inclusive, there are 66 outliers: {23, 45, 37, 27, 39, 20, 18, 18, 32, 18, 39, 23, 38, 33, 29, 22, 18, 31, 24, 17, 48, 18, 17, 17, 23, 25, 18, 25, 29, 26, 18, 42, 44, 19, 24, 24, 18, 44, 17, 24, 23, 22, 22, 20, 18, 28, 3423, 17, 27, 38, 17, 35, 31, 22, 27, 28, 23, 37, 33, 24, 22, 26, 19, 23, 34}\n",
      "\n",
      "pop\n",
      "Data Type: Quantitative\n",
      "Float: contains [0, 99] inclusive, there are 21 outliers: {33, 031, 28, 27, 25, 7, 035, 28, 30, 28, 034, 18, 034, 31, 29, 18, 0}\n",
      "\n"
     ]
    }
   ],
   "source": [
    "for df in [top_2010_2019]:\n",
    "    print(\"DF\")\n",
    "    for col in df.columns:\n",
    "        if col in [\"title\", \"artist\", \"top genre\"]:\n",
    "            continue\n",
    "        print(col)\n",
    "        q3 = df[col].quantile(.75)\n",
    "        q1 = df[col].quantile(.25)\n",
    "        outlier_threshold = 1.5 * (q3 - q1)\n",
    "        outliers = list(df[col][(df[col] < q1 - outlier_threshold) | (df[col] > q3 + outlier_threshold)])\n",
    "        mini = df[col].min()\n",
    "        maxi = df[col].max()\n",
    "        c = len(outliers)\n",
    "        print(\"Data Type: Quantitative\")\n",
    "        print(f\"Float: contains [{mini}, {maxi}] inclusive, there {'is' if c == 1 else 'are'} {c} outlier{'s' if c != 1 else ''}\",end=\"\")\n",
    "        if len(outliers) == 0:\n",
    "            print(\"\\n\")\n",
    "            continue\n",
    "        print(\": {\",end=\"\")\n",
    "        for val in outliers:\n",
    "            print(val,end=\"\")\n",
    "            if not val is outliers[-1]:\n",
    "                print(\", \",end=\"\")\n",
    "        print(\"}\\n\")"
   ]
  },
  {
   "cell_type": "code",
   "execution_count": 30,
   "metadata": {},
   "outputs": [
    {
     "name": "stdout",
     "output_type": "stream",
     "text": [
      "All quantitative columns:\n",
      "year\n",
      "bpm\n",
      "nrgy\n",
      "dnce\n",
      "dB\n",
      "live\n",
      "val\n",
      "dur\n",
      "acous\n",
      "spch\n",
      "pop\n"
     ]
    }
   ],
   "source": [
    "for df in [top_2010_2019]:\n",
    "    print(\"All quantitative columns:\")\n",
    "    for col in df.columns:\n",
    "        if col in [\"title\", \"artist\", \"top genre\"]:\n",
    "            continue\n",
    "        print(col)"
   ]
  },
  {
   "cell_type": "code",
   "execution_count": 41,
   "metadata": {},
   "outputs": [
    {
     "name": "stdout",
     "output_type": "stream",
     "text": [
      "DF\n",
      "dnce\n",
      "Data Type: Quantitative\n",
      "Float: contains [0, 97] inclusive, there are 17 outliers\n",
      "\n",
      "Outliers: 29, 31, 23, 30, 30, 28, 29, 26, 28, 32, 26, 28, 32, 0, 31, 27, 26\n",
      "\n",
      "Non outliers: 67, 75, 76, 70, 64, 73, 75, 52, 48, 79, 62, 62, 77, 83, 44, 78, 72, 82, 63, 83, 80, 44, 73, 70, 53, 48, 61, 65, 72, 79, 70, 68, 75, 60, 50, 81, 29, 65, 72, 50, 51, 71, 31, 80, 23, 76, 64, 66, 45, 67, 67, 42, 56, 67, 64, 73, 73, 72, 65, 71, 69, 58, 59, 63, 62, 55, 75, 74, 64, 63, 66, 73, 69, 71, 61, 71, 58, 62, 69, 70, 75, 52, 66, 65, 70, 73, 61, 30, 65, 59, 71, 58, 82, 64, 35, 45, 30, 77, 68, 73, 50, 65, 64, 80, 60, 73, 45, 74, 73, 62, 78, 86, 61, 63, 56, 67, 75, 72, 56, 72, 60, 67, 67, 72, 68, 76, 72, 51, 69, 79, 59, 68, 38, 56, 72, 70, 65, 58, 60, 51, 53, 60, 78, 42, 55, 61, 61, 79, 53, 38, 85, 50, 63, 71, 51, 57, 54, 47, 77, 65, 63, 57, 83, 63, 55, 63, 67, 56, 66, 78, 52, 65, 80, 80, 71, 72, 66, 68, 76, 85, 56, 47, 56, 58, 67, 58, 45, 55, 61, 55, 69, 55, 28, 63, 59, 67, 70, 62, 68, 68, 36, 72, 69, 60, 77, 53, 67, 51, 71, 65, 42, 42, 60, 65, 77, 65, 65, 55, 74, 87, 51, 66, 68, 69, 50, 50, 58, 78, 56, 49, 91, 76, 72, 44, 56, 70, 72, 69, 71, 76, 79, 41, 72, 62, 60, 50, 47, 69, 35, 45, 55, 93, 29, 47, 60, 41, 59, 96, 68, 80, 68, 53, 63, 78, 56, 64, 74, 59, 78, 68, 58, 61, 86, 57, 75, 65, 58, 26, 66, 85, 75, 78, 69, 83, 67, 74, 58, 47, 28, 41, 88, 69, 81, 42, 80, 48, 66, 75, 62, 60, 63, 59, 82, 68, 71, 83, 57, 49, 69, 63, 32, 67, 58, 78, 36, 38, 59, 69, 68, 53, 62, 81, 75, 67, 81, 70, 79, 63, 71, 77, 38, 67, 39, 71, 71, 51, 64, 74, 76, 69, 52, 47, 65, 54, 60, 48, 67, 69, 57, 47, 68, 64, 26, 57, 72, 85, 80, 62, 88, 28, 72, 90, 48, 58, 61, 77, 53, 50, 62, 63, 67, 67, 77, 67, 80, 57, 63, 73, 75, 76, 66, 66, 73, 77, 61, 59, 79, 71, 61, 93, 75, 76, 65, 55, 66, 70, 59, 81, 59, 63, 56, 76, 67, 32, 38, 61, 59, 55, 55, 55, 63, 47, 56, 59, 61, 56, 60, 69, 93, 71, 38, 68, 37, 58, 62, 70, 60, 57, 74, 73, 63, 52, 83, 65, 37, 75, 39, 57, 75, 83, 70, 80, 0, 83, 75, 68, 44, 85, 65, 77, 56, 65, 69, 64, 57, 61, 72, 74, 82, 61, 58, 65, 67, 61, 65, 33, 74, 74, 84, 45, 69, 53, 53, 59, 63, 70, 31, 93, 40, 69, 71, 82, 87, 71, 65, 80, 76, 72, 77, 74, 55, 65, 73, 74, 64, 70, 37, 69, 74, 51, 70, 77, 68, 57, 60, 27, 76, 43, 79, 77, 82, 76, 87, 70, 84, 62, 72, 26, 78, 59, 51, 66, 52, 71, 57, 65, 80, 70, 59, 68, 59, 74, 67, 70, 66, 66, 47, 77, 53, 97, 63, 71, 69, 52, 64, 46, 77, 84, 63, 65, 76, 92, 54, 57, 63, 66, 39, 77, 53, 48, 68, 73, 76, 75, 75, 63, 58, 79, 75, 58, 97, 58, 76, 51, 50, 76, 48, 86, 62, 69, 72, 67, 69, 80, 64, 84, 67, 80, 90, 81, 53, 73, 85, 59, 70, 72, 84, 74, 61, 75, 53, 60, 70\n"
     ]
    }
   ],
   "source": [
    "for df in [top_2010_2019]:\n",
    "    print(\"DF\")\n",
    "    print(col := \"dnce\")\n",
    "    q3 = df[col].quantile(.75)\n",
    "    q1 = df[col].quantile(.25)\n",
    "    outlier_threshold = 1.5 * (q3 - q1)\n",
    "    outliers = list(df[col][(df[col] < q1 - outlier_threshold) | (df[col] > q3 + outlier_threshold)])\n",
    "    non_outliers = list(df[col][(df[col] >= q1 - outlier_threshold) | (df[col] <= q3 + outlier_threshold)])\n",
    "    mini = df[col].min()\n",
    "    maxi = df[col].max()\n",
    "    c = len(outliers)\n",
    "    print(\"Data Type: Quantitative\")\n",
    "    print(f\"Float: contains [{mini}, {maxi}] inclusive, there {'is' if c == 1 else 'are'} {c} outlier{'s' if c != 1 else ''}\")\n",
    "    print(\"\")\n",
    "    print(\"Outliers:\", \", \".join(str(_) for _ in outliers))\n",
    "    print(\"\")\n",
    "    print(\"Non outliers:\", \", \".join(str(_) for _ in non_outliers))"
   ]
  },
  {
   "cell_type": "code",
   "execution_count": null,
   "metadata": {},
   "outputs": [],
   "source": []
  }
 ],
 "metadata": {
  "kernelspec": {
   "display_name": "Python 3",
   "language": "python",
   "name": "python3"
  },
  "language_info": {
   "codemirror_mode": {
    "name": "ipython",
    "version": 3
   },
   "file_extension": ".py",
   "mimetype": "text/x-python",
   "name": "python",
   "nbconvert_exporter": "python",
   "pygments_lexer": "ipython3",
   "version": "3.8.3"
  }
 },
 "nbformat": 4,
 "nbformat_minor": 4
}
