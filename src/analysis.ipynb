{
 "cells": [
  {
   "cell_type": "code",
   "execution_count": 1,
   "metadata": {},
   "outputs": [],
   "source": [
    "import numpy as np\n",
    "import pandas as pd\n",
    "\n",
    "top_2017 = pd.read_csv('../datasets/top2017.csv')\n",
    "top_2018 = pd.read_csv('../datasets/top2018.csv')\n",
    "top_2019 = pd.read_csv('../datasets/top2019.csv', encoding='mbcs', index_col=0)\n",
    "top_2010_2019 = pd.read_csv('../datasets/top2010-2019.csv', encoding='mbcs', index_col=0)\n"
   ]
  },
  {
   "cell_type": "code",
   "execution_count": 63,
   "metadata": {},
   "outputs": [
    {
     "data": {
      "text/html": [
       "<div>\n",
       "<style scoped>\n",
       "    .dataframe tbody tr th:only-of-type {\n",
       "        vertical-align: middle;\n",
       "    }\n",
       "\n",
       "    .dataframe tbody tr th {\n",
       "        vertical-align: top;\n",
       "    }\n",
       "\n",
       "    .dataframe thead th {\n",
       "        text-align: right;\n",
       "    }\n",
       "</style>\n",
       "<table border=\"1\" class=\"dataframe\">\n",
       "  <thead>\n",
       "    <tr style=\"text-align: right;\">\n",
       "      <th></th>\n",
       "      <th>title</th>\n",
       "      <th>artist</th>\n",
       "      <th>top genre</th>\n",
       "      <th>year</th>\n",
       "      <th>bpm</th>\n",
       "      <th>nrgy</th>\n",
       "      <th>dnce</th>\n",
       "      <th>dB</th>\n",
       "      <th>live</th>\n",
       "      <th>val</th>\n",
       "      <th>dur</th>\n",
       "      <th>acous</th>\n",
       "      <th>spch</th>\n",
       "      <th>pop</th>\n",
       "    </tr>\n",
       "  </thead>\n",
       "  <tbody>\n",
       "    <tr>\n",
       "      <th>1</th>\n",
       "      <td>Hey, Soul Sister</td>\n",
       "      <td>Train</td>\n",
       "      <td>neo mellow</td>\n",
       "      <td>2010</td>\n",
       "      <td>97</td>\n",
       "      <td>89</td>\n",
       "      <td>67</td>\n",
       "      <td>-4</td>\n",
       "      <td>8</td>\n",
       "      <td>80</td>\n",
       "      <td>217</td>\n",
       "      <td>19</td>\n",
       "      <td>4</td>\n",
       "      <td>83</td>\n",
       "    </tr>\n",
       "    <tr>\n",
       "      <th>2</th>\n",
       "      <td>Love The Way You Lie</td>\n",
       "      <td>Eminem</td>\n",
       "      <td>detroit hip hop</td>\n",
       "      <td>2010</td>\n",
       "      <td>87</td>\n",
       "      <td>93</td>\n",
       "      <td>75</td>\n",
       "      <td>-5</td>\n",
       "      <td>52</td>\n",
       "      <td>64</td>\n",
       "      <td>263</td>\n",
       "      <td>24</td>\n",
       "      <td>23</td>\n",
       "      <td>82</td>\n",
       "    </tr>\n",
       "    <tr>\n",
       "      <th>3</th>\n",
       "      <td>TiK ToK</td>\n",
       "      <td>Kesha</td>\n",
       "      <td>dance pop</td>\n",
       "      <td>2010</td>\n",
       "      <td>120</td>\n",
       "      <td>84</td>\n",
       "      <td>76</td>\n",
       "      <td>-3</td>\n",
       "      <td>29</td>\n",
       "      <td>71</td>\n",
       "      <td>200</td>\n",
       "      <td>10</td>\n",
       "      <td>14</td>\n",
       "      <td>80</td>\n",
       "    </tr>\n",
       "    <tr>\n",
       "      <th>4</th>\n",
       "      <td>Bad Romance</td>\n",
       "      <td>Lady Gaga</td>\n",
       "      <td>dance pop</td>\n",
       "      <td>2010</td>\n",
       "      <td>119</td>\n",
       "      <td>92</td>\n",
       "      <td>70</td>\n",
       "      <td>-4</td>\n",
       "      <td>8</td>\n",
       "      <td>71</td>\n",
       "      <td>295</td>\n",
       "      <td>0</td>\n",
       "      <td>4</td>\n",
       "      <td>79</td>\n",
       "    </tr>\n",
       "    <tr>\n",
       "      <th>5</th>\n",
       "      <td>Just the Way You Are</td>\n",
       "      <td>Bruno Mars</td>\n",
       "      <td>pop</td>\n",
       "      <td>2010</td>\n",
       "      <td>109</td>\n",
       "      <td>84</td>\n",
       "      <td>64</td>\n",
       "      <td>-5</td>\n",
       "      <td>9</td>\n",
       "      <td>43</td>\n",
       "      <td>221</td>\n",
       "      <td>2</td>\n",
       "      <td>4</td>\n",
       "      <td>78</td>\n",
       "    </tr>\n",
       "  </tbody>\n",
       "</table>\n",
       "</div>"
      ],
      "text/plain": [
       "                  title      artist        top genre  year  bpm  nrgy  dnce  \\\n",
       "1      Hey, Soul Sister       Train       neo mellow  2010   97    89    67   \n",
       "2  Love The Way You Lie      Eminem  detroit hip hop  2010   87    93    75   \n",
       "3               TiK ToK       Kesha        dance pop  2010  120    84    76   \n",
       "4           Bad Romance   Lady Gaga        dance pop  2010  119    92    70   \n",
       "5  Just the Way You Are  Bruno Mars              pop  2010  109    84    64   \n",
       "\n",
       "   dB  live  val  dur  acous  spch  pop  \n",
       "1  -4     8   80  217     19     4   83  \n",
       "2  -5    52   64  263     24    23   82  \n",
       "3  -3    29   71  200     10    14   80  \n",
       "4  -4     8   71  295      0     4   79  \n",
       "5  -5     9   43  221      2     4   78  "
      ]
     },
     "execution_count": 63,
     "metadata": {},
     "output_type": "execute_result"
    }
   ],
   "source": [
    "top_2010_2019.head()"
   ]
  },
  {
   "cell_type": "code",
   "execution_count": 29,
   "metadata": {},
   "outputs": [
    {
     "name": "stdout",
     "output_type": "stream",
     "text": [
      "584\n"
     ]
    }
   ],
   "source": [
    "title = top_2010_2019[\"title\"]\n",
    "print(len(pd.unique(title)))"
   ]
  },
  {
   "cell_type": "code",
   "execution_count": 30,
   "metadata": {},
   "outputs": [
    {
     "name": "stdout",
     "output_type": "stream",
     "text": [
      "184\n"
     ]
    }
   ],
   "source": [
    "artists = top_2010_2019[\"artist\"]\n",
    "print(len(pd.unique(artists)))"
   ]
  },
  {
   "cell_type": "code",
   "execution_count": 31,
   "metadata": {},
   "outputs": [
    {
     "name": "stdout",
     "output_type": "stream",
     "text": [
      "50\n"
     ]
    }
   ],
   "source": [
    "genres = top_2010_2019[\"top genre\"]\n",
    "print(len(pd.unique(genres)))"
   ]
  },
  {
   "cell_type": "code",
   "execution_count": 52,
   "metadata": {},
   "outputs": [
    {
     "data": {
      "text/plain": [
       "array([2010, 2011, 2012, 2013, 2014, 2015, 2016, 2017, 2018, 2019],\n",
       "      dtype=int64)"
      ]
     },
     "execution_count": 52,
     "metadata": {},
     "output_type": "execute_result"
    }
   ],
   "source": [
    "#YEAR\n",
    "year = top_2010_2019[\"year\"]\n",
    "pd.unique(year)"
   ]
  },
  {
   "cell_type": "code",
   "execution_count": 64,
   "metadata": {},
   "outputs": [
    {
     "name": "stdout",
     "output_type": "stream",
     "text": [
      "Num Rows: 603\n",
      "Min Value: 0\n",
      "Max Value: 206\n"
     ]
    },
    {
     "data": {
      "text/plain": [
       "(28, 14)"
      ]
     },
     "execution_count": 64,
     "metadata": {},
     "output_type": "execute_result"
    }
   ],
   "source": [
    "#BPM\n",
    "bpm = top_2010_2019[\"bpm\"]\n",
    "print(\"Num Rows: \" + str(len(bpm)))\n",
    "print(\"Min Value: \" + str(bpm.min()))\n",
    "print(\"Max Value: \" + str(bpm.max()))\n",
    "Q1 = bpm.quantile(0.25)\n",
    "Q3 = bpm.quantile(0.75)\n",
    "IQR = Q3 - Q1\n",
    "top_2010_2019.loc[(bpm < Q1 - (1.5 * IQR)) | (bpm > Q3 + (1.5 * IQR))].shape"
   ]
  },
  {
   "cell_type": "code",
   "execution_count": 67,
   "metadata": {},
   "outputs": [
    {
     "name": "stdout",
     "output_type": "stream",
     "text": [
      "Num Rows: 603\n",
      "Min Value: 0\n",
      "Max Value: 98\n"
     ]
    },
    {
     "data": {
      "text/plain": [
       "(11, 14)"
      ]
     },
     "execution_count": 67,
     "metadata": {},
     "output_type": "execute_result"
    }
   ],
   "source": [
    "#ENRGY\n",
    "energy = top_2010_2019[\"nrgy\"]\n",
    "print(\"Num Rows: \" + str(len(energy)))\n",
    "print(\"Min Value: \" + str(energy.min()))\n",
    "print(\"Max Value: \" + str(energy.max()))\n",
    "Q1 = energy.quantile(0.25)\n",
    "Q3 = energy.quantile(0.75)\n",
    "IQR = Q3 - Q1\n",
    "top_2010_2019.loc[(energy < Q1 - (1.5 * IQR)) | (energy > Q3 + (1.5 * IQR))].shape"
   ]
  },
  {
   "cell_type": "code",
   "execution_count": 71,
   "metadata": {
    "scrolled": true
   },
   "outputs": [
    {
     "name": "stdout",
     "output_type": "stream",
     "text": [
      "Num Rows: 603\n",
      "Min Value: 0\n",
      "Max Value: 97\n"
     ]
    },
    {
     "data": {
      "text/plain": [
       "(17, 14)"
      ]
     },
     "execution_count": 71,
     "metadata": {},
     "output_type": "execute_result"
    }
   ],
   "source": [
    "#DANCE\n",
    "dance = top_2010_2019[\"dnce\"]\n",
    "print(\"Num Rows: \" + str(len(dance)))\n",
    "print(\"Min Value: \" + str(dance.min()))\n",
    "print(\"Max Value: \" + str(dance.max()))\n",
    "Q1 = dance.quantile(0.25)\n",
    "Q3 = dance.quantile(0.75)\n",
    "IQR = Q3 - Q1\n",
    "top_2010_2019.loc[(dance < Q1 - (1.5 * IQR)) | (dance > Q3 + (1.5 * IQR))].shape"
   ]
  },
  {
   "cell_type": "code",
   "execution_count": 72,
   "metadata": {},
   "outputs": [
    {
     "name": "stdout",
     "output_type": "stream",
     "text": [
      "Num Rows: 603\n",
      "Min Value: -60\n",
      "Max Value: -2\n"
     ]
    },
    {
     "data": {
      "text/plain": [
       "(15, 14)"
      ]
     },
     "execution_count": 72,
     "metadata": {},
     "output_type": "execute_result"
    }
   ],
   "source": [
    "#DB\n",
    "decibles = top_2010_2019[\"dB\"]\n",
    "print(\"Num Rows: \" + str(len(decibles)))\n",
    "print(\"Min Value: \" + str(decibles.min()))\n",
    "print(\"Max Value: \" + str(decibles.max()))\n",
    "Q1 = decibles.quantile(0.25)\n",
    "Q3 = decibles.quantile(0.75)\n",
    "IQR = Q3 - Q1\n",
    "top_2010_2019.loc[(decibles < Q1 - (1.5 * IQR)) | (decibles > Q3 + (1.5 * IQR))].shape"
   ]
  },
  {
   "cell_type": "code",
   "execution_count": 73,
   "metadata": {},
   "outputs": [
    {
     "name": "stdout",
     "output_type": "stream",
     "text": [
      "Num Rows: 603\n",
      "Min Value: 0\n",
      "Max Value: 74\n"
     ]
    },
    {
     "data": {
      "text/plain": [
       "(23, 14)"
      ]
     },
     "execution_count": 73,
     "metadata": {},
     "output_type": "execute_result"
    }
   ],
   "source": [
    "#LIVE\n",
    "live = top_2010_2019[\"live\"]\n",
    "print(\"Num Rows: \" + str(len(live)))\n",
    "print(\"Min Value: \" + str(live.min()))\n",
    "print(\"Max Value: \" + str(live.max()))\n",
    "Q1 = live.quantile(0.25)\n",
    "Q3 = live.quantile(0.75)\n",
    "IQR = Q3 - Q1\n",
    "top_2010_2019.loc[(live < Q1 - (1.5 * IQR)) | (live > Q3 + (1.5 * IQR))].shape"
   ]
  },
  {
   "cell_type": "code",
   "execution_count": 74,
   "metadata": {},
   "outputs": [
    {
     "name": "stdout",
     "output_type": "stream",
     "text": [
      "Num Rows: 603\n",
      "Min Value: 0\n",
      "Max Value: 98\n"
     ]
    },
    {
     "data": {
      "text/plain": [
       "(0, 14)"
      ]
     },
     "execution_count": 74,
     "metadata": {},
     "output_type": "execute_result"
    }
   ],
   "source": [
    "#VAL\n",
    "valence = top_2010_2019[\"val\"]\n",
    "print(\"Num Rows: \" + str(len(valence)))\n",
    "print(\"Min Value: \" + str(valence.min()))\n",
    "print(\"Max Value: \" + str(valence.max()))\n",
    "Q1 = valence.quantile(0.25)\n",
    "Q3 = valence.quantile(0.75)\n",
    "IQR = Q3 - Q1\n",
    "top_2010_2019.loc[(valence < Q1 - (1.5 * IQR)) | (valence > Q3 + (1.5 * IQR))].shape"
   ]
  },
  {
   "cell_type": "code",
   "execution_count": 77,
   "metadata": {},
   "outputs": [
    {
     "name": "stdout",
     "output_type": "stream",
     "text": [
      "Num Rows: 603\n",
      "Min Value: 134\n",
      "Max Value: 424\n"
     ]
    },
    {
     "data": {
      "text/plain": [
       "(19, 14)"
      ]
     },
     "execution_count": 77,
     "metadata": {},
     "output_type": "execute_result"
    }
   ],
   "source": [
    "#DUR\n",
    "duration = top_2010_2019[\"dur\"]\n",
    "print(\"Num Rows: \" + str(len(duration)))\n",
    "print(\"Min Value: \" + str(duration.min()))\n",
    "print(\"Max Value: \" + str(duration.max()))\n",
    "Q1 = duration.quantile(0.25)\n",
    "Q3 = duration.quantile(0.75)\n",
    "IQR = Q3 - Q1\n",
    "top_2010_2019.loc[(duration < Q1 - (1.5 * IQR)) | (duration > Q3 + (1.5 * IQR))].shape"
   ]
  },
  {
   "cell_type": "code",
   "execution_count": 78,
   "metadata": {},
   "outputs": [
    {
     "name": "stdout",
     "output_type": "stream",
     "text": [
      "Num Rows: 603\n",
      "Min Value: 0\n",
      "Max Value: 99\n"
     ]
    },
    {
     "data": {
      "text/plain": [
       "(66, 14)"
      ]
     },
     "execution_count": 78,
     "metadata": {},
     "output_type": "execute_result"
    }
   ],
   "source": [
    "#ACOUS\n",
    "acoustic = top_2010_2019[\"acous\"]\n",
    "print(\"Num Rows: \" + str(len(acoustic)))\n",
    "print(\"Min Value: \" + str(acoustic.min()))\n",
    "print(\"Max Value: \" + str(acoustic.max()))\n",
    "Q1 = acoustic.quantile(0.25)\n",
    "Q3 = acoustic.quantile(0.75)\n",
    "IQR = Q3 - Q1\n",
    "top_2010_2019.loc[(acoustic < Q1 - (1.5 * IQR)) | (acoustic > Q3 + (1.5 * IQR))].shape"
   ]
  },
  {
   "cell_type": "code",
   "execution_count": 79,
   "metadata": {},
   "outputs": [
    {
     "name": "stdout",
     "output_type": "stream",
     "text": [
      "Num Rows: 603\n",
      "Min Value: 0\n",
      "Max Value: 48\n"
     ]
    },
    {
     "data": {
      "text/plain": [
       "(66, 14)"
      ]
     },
     "execution_count": 79,
     "metadata": {},
     "output_type": "execute_result"
    }
   ],
   "source": [
    "#SPCH\n",
    "speech = top_2010_2019[\"spch\"]\n",
    "print(\"Num Rows: \" + str(len(speech)))\n",
    "print(\"Min Value: \" + str(speech.min()))\n",
    "print(\"Max Value: \" + str(speech.max()))\n",
    "Q1 = speech.quantile(0.25)\n",
    "Q3 = speech.quantile(0.75)\n",
    "IQR = Q3 - Q1\n",
    "top_2010_2019.loc[(speech < Q1 - (1.5 * IQR)) | (speech > Q3 + (1.5 * IQR))].shape"
   ]
  },
  {
   "cell_type": "code",
   "execution_count": 80,
   "metadata": {},
   "outputs": [
    {
     "name": "stdout",
     "output_type": "stream",
     "text": [
      "Num Rows: 603\n",
      "Min Value: 0\n",
      "Max Value: 99\n"
     ]
    },
    {
     "data": {
      "text/plain": [
       "(21, 14)"
      ]
     },
     "execution_count": 80,
     "metadata": {},
     "output_type": "execute_result"
    }
   ],
   "source": [
    "#POP\n",
    "popular = top_2010_2019[\"pop\"]\n",
    "print(\"Num Rows: \" + str(len(popular)))\n",
    "print(\"Min Value: \" + str(popular.min()))\n",
    "print(\"Max Value: \" + str(popular.max()))\n",
    "Q1 = popular.quantile(0.25)\n",
    "Q3 = popular.quantile(0.75)\n",
    "IQR = Q3 - Q1\n",
    "top_2010_2019.loc[(popular < Q1 - (1.5 * IQR)) | (popular > Q3 + (1.5 * IQR))].shape"
   ]
  }
 ],
 "metadata": {
  "kernelspec": {
   "display_name": "Python 3",
   "language": "python",
   "name": "python3"
  },
  "language_info": {
   "codemirror_mode": {
    "name": "ipython",
    "version": 3
   },
   "file_extension": ".py",
   "mimetype": "text/x-python",
   "name": "python",
   "nbconvert_exporter": "python",
   "pygments_lexer": "ipython3",
   "version": "3.8.3"
  }
 },
 "nbformat": 4,
 "nbformat_minor": 4
}
