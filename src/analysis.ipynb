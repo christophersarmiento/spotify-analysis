{
 "cells": [
  {
   "cell_type": "code",
   "execution_count": 1,
   "metadata": {},
   "outputs": [],
   "source": [
    "import numpy as np\n",
    "import pandas as pd\n",
    "\n",
    "top_2017 = pd.read_csv('../datasets/top2017.csv')\n",
    "top_2018 = pd.read_csv('../datasets/top2018.csv')\n",
    "top_2019 = pd.read_csv('../datasets/top2019.csv', encoding='mbcs', index_col=0)\n",
    "top_2010_2019 = pd.read_csv('../datasets/top2010-2019.csv', encoding='mbcs', index_col=0)"
   ]
  },
  {
   "cell_type": "code",
   "execution_count": 3,
   "metadata": {},
   "outputs": [],
   "source": [
    "top_2017 = pd.read_csv('C:\\\\Users\\\\Belle\\\\Documents\\\\FALL2020\\\\CS301\\\\spotify-analysis\\\\datasets\\\\top2017.csv', encoding='mbcs', index_col=0)\n",
    "top_2018 = pd.read_csv('C:\\\\Users\\\\Belle\\\\Documents\\\\FALL2020\\\\CS301\\\\spotify-analysis\\\\datasets\\\\top2018.csv', encoding='mbcs', index_col=0)\n",
    "top_2019 = pd.read_csv('C:\\\\Users\\\\Belle\\\\Documents\\\\FALL2020\\\\CS301\\\\spotify-analysis\\\\datasets\\\\top2019.csv', encoding='mbcs', index_col=0)\n",
    "top_2010_2019 = pd.read_csv('C:\\\\Users\\\\Belle\\\\Documents\\\\FALL2020\\\\CS301\\\\spotify-analysis\\\\datasets\\\\top2010-2019.csv', encoding='mbcs', index_col=0)"
   ]
  },
  {
   "cell_type": "markdown",
   "metadata": {},
   "source": [
    "#### Section 2: Data Collection - Top 50 Spotify Songs 2019\n",
    "###### Column Description: Description of values in the column"
   ]
  },
  {
   "cell_type": "code",
   "execution_count": 63,
   "metadata": {
    "scrolled": true
   },
   "outputs": [
    {
     "name": "stdout",
     "output_type": "stream",
     "text": [
      "The columns are:  ['Track.Name', 'Artist.Name', 'Genre', 'Beats.Per.Minute', 'Energy', 'Danceability', 'Loudness..dB..', 'Liveness', 'Valence.', 'Length.', 'Acousticness..', 'Speechiness', 'Popularity']\n"
     ]
    }
   ],
   "source": [
    "print(\"The columns are: \",list(top_2019))"
   ]
  },
  {
   "cell_type": "code",
   "execution_count": 68,
   "metadata": {},
   "outputs": [
    {
     "name": "stdout",
     "output_type": "stream",
     "text": [
      "Track.Name\n",
      "Artist.Name\n",
      "Genre\n",
      "Beats.Per.Minute\n",
      "Energy\n",
      "Danceability\n",
      "Loudness..dB..\n",
      "Liveness\n",
      "Valence.\n",
      "Length.\n",
      "Acousticness..\n",
      "Speechiness\n",
      "Popularity\n"
     ]
    }
   ],
   "source": [
    "# Which column to compute?\n",
    "column = 'Danceability' "
   ]
  },
  {
   "cell_type": "code",
   "execution_count": 60,
   "metadata": {},
   "outputs": [],
   "source": [
    "#Deviation Based Anomaly Detection\n",
    "q1 = top_2019[column].quantile(0.25)\n",
    "q2 = top_2019[column].quantile(0.5)\n",
    "q3 = top_2019[column].quantile(0.75)\n",
    "iqr = q3 - q1"
   ]
  },
  {
   "cell_type": "code",
   "execution_count": 61,
   "metadata": {},
   "outputs": [
    {
     "name": "stdout",
     "output_type": "stream",
     "text": [
      "The outliers are 47.875 and 98.875 \n"
     ]
    }
   ],
   "source": [
    "print(\"The outliers are {} and {} \".format(q1 - (1.5 * iqr), q3 + (1.5 * iqr)))"
   ]
  },
  {
   "cell_type": "code",
   "execution_count": 62,
   "metadata": {},
   "outputs": [
    {
     "name": "stdout",
     "output_type": "stream",
     "text": [
      "Number of outliers in Danceability is: 2\n"
     ]
    }
   ],
   "source": [
    "outlier = top_2019.loc[(top_2019[column] < q1 - (1.5 * iqr)) | (top_2019[column] > q3 + (1.5 * iqr))]\n",
    "print(\"Number of outliers in {} is: {}\".format(column, len(outlier)))"
   ]
  },
  {
   "cell_type": "code",
   "execution_count": 67,
   "metadata": {},
   "outputs": [
    {
     "name": "stdout",
     "output_type": "stream",
     "text": [
      "Number of unique items in Artist.Name are: 38\n",
      "Number of unique items in Track.Name are: 50\n",
      "Number of unique items in Genre are: 21\n"
     ]
    }
   ],
   "source": [
    "unique_artist = top_2019['Artist.Name'].unique()\n",
    "unique_songs = top_2019['Track.Name'].unique()\n",
    "unique_genre = top_2019['Genre'].unique()\n",
    "print(\"Number of unique items in Artist.Name are: {}\".format(len(unique_artist)))\n",
    "print(\"Number of unique items in Track.Name are: {}\".format(len(unique_songs)))\n",
    "print(\"Number of unique items in Genre are: {}\".format(len(unique_genre)))"
   ]
  },
  {
   "cell_type": "code",
   "execution_count": 11,
   "metadata": {},
   "outputs": [
    {
     "data": {
      "text/plain": [
       "200.96"
      ]
     },
     "execution_count": 11,
     "metadata": {},
     "output_type": "execute_result"
    }
   ],
   "source": [
    "top_2019['Length.'].mean()"
   ]
  },
  {
   "cell_type": "markdown",
   "metadata": {},
   "source": [
    "### Section 3: Data Analysis\n",
    "#### Statistical Analysis & Charts\n",
    "##### Is there a correlation between the danceability and the speechiness of a song?"
   ]
  },
  {
   "cell_type": "markdown",
   "metadata": {},
   "source": [
    "### Pearson Coefficient of Speechiness and Danceability"
   ]
  },
  {
   "cell_type": "code",
   "execution_count": 78,
   "metadata": {},
   "outputs": [],
   "source": [
    "import pandas as pd \n",
    "import scipy\n",
    "from scipy.stats import pearsonr "
   ]
  },
  {
   "cell_type": "code",
   "execution_count": 85,
   "metadata": {
    "scrolled": true
   },
   "outputs": [
    {
     "name": "stdout",
     "output_type": "stream",
     "text": [
      "(0.11177472115971555, 0.26822131267215427)\n",
      "Pearsons correlation:  0.11177472115971555\n"
     ]
    }
   ],
   "source": [
    "#top 2017\n",
    "top_2017\n",
    "speechiness = top_2017['speechiness']\n",
    "danceability = top_2017['danceability']\n",
    "\n",
    "corr, _ = pearsonr(speechiness, danceability) \n",
    "\n",
    "print(scipy.stats.pearsonr(speechiness, danceability))\n",
    "print('Pearsons correlation: ', corr) "
   ]
  },
  {
   "cell_type": "code",
   "execution_count": 83,
   "metadata": {},
   "outputs": [
    {
     "name": "stdout",
     "output_type": "stream",
     "text": [
      "(0.22707492407047294, 0.023088580363018505)\n",
      "Pearsons correlation:  0.22707492407047294\n"
     ]
    }
   ],
   "source": [
    "#top 2018\n",
    "speechiness = top_2018['speechiness']\n",
    "danceability = top_2018['danceability']\n",
    "\n",
    "corr, _ = pearsonr(speechiness, danceability) \n",
    "\n",
    "print(scipy.stats.pearsonr(speechiness, danceability))\n",
    "print('Pearsons correlation: ', corr) "
   ]
  },
  {
   "cell_type": "code",
   "execution_count": 84,
   "metadata": {},
   "outputs": [
    {
     "name": "stdout",
     "output_type": "stream",
     "text": [
      "(-0.10347192169379564, 0.47456325250549547)\n",
      "Pearsons correlation:  -0.10347192169379564\n"
     ]
    }
   ],
   "source": [
    "#top 2019\n",
    "speechiness = top_2019['Speechiness.']\n",
    "danceability = top_2019['Danceability']\n",
    "\n",
    "corr, _ = pearsonr(speechiness, danceability) \n",
    "\n",
    "print(scipy.stats.pearsonr(speechiness, danceability))\n",
    "print('Pearsons correlation: ', corr) "
   ]
  },
  {
   "cell_type": "code",
   "execution_count": 82,
   "metadata": {},
   "outputs": [
    {
     "name": "stdout",
     "output_type": "stream",
     "text": [
      "(-0.02804130521521669, 0.49189980624659946)\n",
      "Pearsons correlation:  -0.02804130521521669\n"
     ]
    }
   ],
   "source": [
    "#top 2010-2019\n",
    "speechiness = top_2010_2019['spch']\n",
    "danceability = top_2010_2019['dnce']\n",
    "\n",
    "corr, _ = pearsonr(speechiness, danceability)\n",
    "\n",
    "print(scipy.stats.pearsonr(speechiness, danceability))\n",
    "print('Pearsons correlation: ', corr) "
   ]
  }
 ],
 "metadata": {
  "kernelspec": {
   "display_name": "Python 3",
   "language": "python",
   "name": "python3"
  },
  "language_info": {
   "codemirror_mode": {
    "name": "ipython",
    "version": 3
   },
   "file_extension": ".py",
   "mimetype": "text/x-python",
   "name": "python",
   "nbconvert_exporter": "python",
   "pygments_lexer": "ipython3",
   "version": "3.7.3"
  }
 },
 "nbformat": 4,
 "nbformat_minor": 4
}
